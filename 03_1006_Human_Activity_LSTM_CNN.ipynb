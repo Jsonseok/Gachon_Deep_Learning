{
  "nbformat": 4,
  "nbformat_minor": 0,
  "metadata": {
    "colab": {
      "provenance": []
    },
    "kernelspec": {
      "name": "python3",
      "display_name": "Python 3"
    },
    "language_info": {
      "name": "python"
    }
  },
  "cells": [
    {
      "cell_type": "code",
      "execution_count": null,
      "metadata": {
        "id": "B7c36Dq91Eqt"
      },
      "outputs": [],
      "source": []
    },
    {
      "cell_type": "code",
      "execution_count": 1,
      "metadata": {
        "id": "m91ZKRIqOVkU"
      },
      "outputs": [],
      "source": [
        "import numpy as np\n",
        "from pandas import read_csv\n",
        "from keras.models import Sequential\n",
        "import pandas as pd\n",
        "from keras.layers import Conv1D,MaxPool1D,Dense,Flatten,Dropout,LSTM,GlobalAveragePooling1D, Reshape,BatchNormalization,Activation\n",
        "from sklearn.preprocessing import LabelEncoder\n",
        "\n",
        "from tensorflow.keras.utils import to_categorical\n",
        "import matplotlib.pyplot as plt\n",
        "from keras.utils import plot_model\n",
        "import keras\n",
        "import zipfile\n",
        "from sklearn.metrics import confusion_matrix, classification_report\n",
        "import seaborn as sns\n",
        "# set seed to reproduce similar results\n",
        "np.random.seed(0)"
      ]
    },
    {
      "cell_type": "code",
      "source": [
        "\n",
        "!pip install -U -q PyDrive\n",
        "from pydrive.auth import GoogleAuth\n",
        "from pydrive.drive import GoogleDrive\n",
        "from google.colab import auth\n",
        "from oauth2client.client import GoogleCredentials"
      ],
      "metadata": {
        "id": "37YbdMHbnuDD"
      },
      "execution_count": 2,
      "outputs": []
    },
    {
      "cell_type": "code",
      "source": [
        "auth.authenticate_user()\n",
        "gauth = GoogleAuth()\n",
        "gauth.credentials = GoogleCredentials.get_application_default()\n",
        "drive = GoogleDrive(gauth)"
      ],
      "metadata": {
        "id": "xQnzmTLDn_Zs"
      },
      "execution_count": 3,
      "outputs": []
    },
    {
      "cell_type": "code",
      "source": [
        "dataset_file_id = '1xnD6OXIMNOChR4V9DKO-Jjsb7QNMUjc0'"
      ],
      "metadata": {
        "id": "E7W8pW5VoH7Z"
      },
      "execution_count": 4,
      "outputs": []
    },
    {
      "cell_type": "code",
      "source": [
        "downloaded = drive.CreateFile({'id':dataset_file_id})\n",
        "downloaded.GetContentFile('UCI HAR Dataset.zip')"
      ],
      "metadata": {
        "id": "tqqfDxBKoFYZ"
      },
      "execution_count": 5,
      "outputs": []
    },
    {
      "cell_type": "code",
      "source": [
        "!unzip \"/content/UCI HAR Dataset.zip\" -d \"/content/\"\n"
      ],
      "metadata": {
        "colab": {
          "base_uri": "https://localhost:8080/"
        },
        "id": "RC2V0DXPoGaa",
        "outputId": "86fc060c-303d-404a-ccdc-8055fde73780"
      },
      "execution_count": 6,
      "outputs": [
        {
          "output_type": "stream",
          "name": "stdout",
          "text": [
            "Archive:  /content/UCI HAR Dataset.zip\n",
            "   creating: /content/UCI HAR Dataset/\n",
            "  inflating: /content/UCI HAR Dataset/.DS_Store  \n",
            "   creating: /content/__MACOSX/\n",
            "   creating: /content/__MACOSX/UCI HAR Dataset/\n",
            "  inflating: /content/__MACOSX/UCI HAR Dataset/._.DS_Store  \n",
            "  inflating: /content/UCI HAR Dataset/activity_labels.txt  \n",
            "  inflating: /content/__MACOSX/UCI HAR Dataset/._activity_labels.txt  \n",
            "  inflating: /content/UCI HAR Dataset/features.txt  \n",
            "  inflating: /content/__MACOSX/UCI HAR Dataset/._features.txt  \n",
            "  inflating: /content/UCI HAR Dataset/features_info.txt  \n",
            "  inflating: /content/__MACOSX/UCI HAR Dataset/._features_info.txt  \n",
            "  inflating: /content/UCI HAR Dataset/README.txt  \n",
            "  inflating: /content/__MACOSX/UCI HAR Dataset/._README.txt  \n",
            "   creating: /content/UCI HAR Dataset/test/\n",
            "   creating: /content/UCI HAR Dataset/test/Inertial Signals/\n",
            "  inflating: /content/UCI HAR Dataset/test/Inertial Signals/body_acc_x_test.txt  \n",
            "   creating: /content/__MACOSX/UCI HAR Dataset/test/\n",
            "   creating: /content/__MACOSX/UCI HAR Dataset/test/Inertial Signals/\n",
            "  inflating: /content/__MACOSX/UCI HAR Dataset/test/Inertial Signals/._body_acc_x_test.txt  \n",
            "  inflating: /content/UCI HAR Dataset/test/Inertial Signals/body_acc_y_test.txt  \n",
            "  inflating: /content/__MACOSX/UCI HAR Dataset/test/Inertial Signals/._body_acc_y_test.txt  \n",
            "  inflating: /content/UCI HAR Dataset/test/Inertial Signals/body_acc_z_test.txt  \n",
            "  inflating: /content/__MACOSX/UCI HAR Dataset/test/Inertial Signals/._body_acc_z_test.txt  \n",
            "  inflating: /content/UCI HAR Dataset/test/Inertial Signals/body_gyro_x_test.txt  \n",
            "  inflating: /content/__MACOSX/UCI HAR Dataset/test/Inertial Signals/._body_gyro_x_test.txt  \n",
            "  inflating: /content/UCI HAR Dataset/test/Inertial Signals/body_gyro_y_test.txt  \n",
            "  inflating: /content/__MACOSX/UCI HAR Dataset/test/Inertial Signals/._body_gyro_y_test.txt  \n",
            "  inflating: /content/UCI HAR Dataset/test/Inertial Signals/body_gyro_z_test.txt  \n",
            "  inflating: /content/__MACOSX/UCI HAR Dataset/test/Inertial Signals/._body_gyro_z_test.txt  \n",
            "  inflating: /content/UCI HAR Dataset/test/Inertial Signals/total_acc_x_test.txt  \n",
            "  inflating: /content/__MACOSX/UCI HAR Dataset/test/Inertial Signals/._total_acc_x_test.txt  \n",
            "  inflating: /content/UCI HAR Dataset/test/Inertial Signals/total_acc_y_test.txt  \n",
            "  inflating: /content/__MACOSX/UCI HAR Dataset/test/Inertial Signals/._total_acc_y_test.txt  \n",
            "  inflating: /content/UCI HAR Dataset/test/Inertial Signals/total_acc_z_test.txt  \n",
            "  inflating: /content/__MACOSX/UCI HAR Dataset/test/Inertial Signals/._total_acc_z_test.txt  \n",
            "  inflating: /content/__MACOSX/UCI HAR Dataset/test/._Inertial Signals  \n",
            "  inflating: /content/UCI HAR Dataset/test/subject_test.txt  \n",
            "  inflating: /content/__MACOSX/UCI HAR Dataset/test/._subject_test.txt  \n",
            "  inflating: /content/UCI HAR Dataset/test/X_test.txt  \n",
            "  inflating: /content/__MACOSX/UCI HAR Dataset/test/._X_test.txt  \n",
            "  inflating: /content/UCI HAR Dataset/test/y_test.txt  \n",
            "  inflating: /content/__MACOSX/UCI HAR Dataset/test/._y_test.txt  \n",
            "  inflating: /content/__MACOSX/UCI HAR Dataset/._test  \n",
            "   creating: /content/UCI HAR Dataset/train/\n",
            "   creating: /content/UCI HAR Dataset/train/Inertial Signals/\n",
            "  inflating: /content/UCI HAR Dataset/train/Inertial Signals/body_acc_x_train.txt  \n",
            "   creating: /content/__MACOSX/UCI HAR Dataset/train/\n",
            "   creating: /content/__MACOSX/UCI HAR Dataset/train/Inertial Signals/\n",
            "  inflating: /content/__MACOSX/UCI HAR Dataset/train/Inertial Signals/._body_acc_x_train.txt  \n",
            "  inflating: /content/UCI HAR Dataset/train/Inertial Signals/body_acc_y_train.txt  \n",
            "  inflating: /content/__MACOSX/UCI HAR Dataset/train/Inertial Signals/._body_acc_y_train.txt  \n",
            "  inflating: /content/UCI HAR Dataset/train/Inertial Signals/body_acc_z_train.txt  \n",
            "  inflating: /content/__MACOSX/UCI HAR Dataset/train/Inertial Signals/._body_acc_z_train.txt  \n",
            "  inflating: /content/UCI HAR Dataset/train/Inertial Signals/body_gyro_x_train.txt  \n",
            "  inflating: /content/__MACOSX/UCI HAR Dataset/train/Inertial Signals/._body_gyro_x_train.txt  \n",
            "  inflating: /content/UCI HAR Dataset/train/Inertial Signals/body_gyro_y_train.txt  \n",
            "  inflating: /content/__MACOSX/UCI HAR Dataset/train/Inertial Signals/._body_gyro_y_train.txt  \n",
            "  inflating: /content/UCI HAR Dataset/train/Inertial Signals/body_gyro_z_train.txt  \n",
            "  inflating: /content/__MACOSX/UCI HAR Dataset/train/Inertial Signals/._body_gyro_z_train.txt  \n",
            "  inflating: /content/UCI HAR Dataset/train/Inertial Signals/total_acc_x_train.txt  \n",
            "  inflating: /content/__MACOSX/UCI HAR Dataset/train/Inertial Signals/._total_acc_x_train.txt  \n",
            "  inflating: /content/UCI HAR Dataset/train/Inertial Signals/total_acc_y_train.txt  \n",
            "  inflating: /content/__MACOSX/UCI HAR Dataset/train/Inertial Signals/._total_acc_y_train.txt  \n",
            "  inflating: /content/UCI HAR Dataset/train/Inertial Signals/total_acc_z_train.txt  \n",
            "  inflating: /content/__MACOSX/UCI HAR Dataset/train/Inertial Signals/._total_acc_z_train.txt  \n",
            "  inflating: /content/__MACOSX/UCI HAR Dataset/train/._Inertial Signals  \n",
            "  inflating: /content/UCI HAR Dataset/train/subject_train.txt  \n",
            "  inflating: /content/__MACOSX/UCI HAR Dataset/train/._subject_train.txt  \n",
            "  inflating: /content/UCI HAR Dataset/train/X_train.txt  \n",
            "  inflating: /content/__MACOSX/UCI HAR Dataset/train/._X_train.txt  \n",
            "  inflating: /content/UCI HAR Dataset/train/y_train.txt  \n",
            "  inflating: /content/__MACOSX/UCI HAR Dataset/train/._y_train.txt  \n",
            "  inflating: /content/__MACOSX/UCI HAR Dataset/._train  \n",
            "  inflating: /content/__MACOSX/._UCI HAR Dataset  \n"
          ]
        }
      ]
    },
    {
      "cell_type": "code",
      "source": [
        "features_df = pd.read_csv('/content/UCI HAR Dataset/features.txt',sep=\"\\s+\",\n",
        "                         header=None, names=[\"column_index\", \"column_name\"])\n",
        "\n",
        "feature_names = features_df[\"column_name\"].values.tolist()\n"
      ],
      "metadata": {
        "id": "uQA1wFmNzd0p"
      },
      "execution_count": 21,
      "outputs": []
    },
    {
      "cell_type": "code",
      "source": [
        "path = \"/content/UCI HAR Dataset/\"\n",
        "\n",
        "X_train = pd.read_csv(path+\"train/X_train.txt\",sep=\"\\s+\", header = None)\n",
        "X_train.columns = feature_names\n",
        "X_test = pd.read_csv(path+\"test/X_test.txt\",sep=\"\\s+\", header = None)\n",
        "X_test.columns = feature_names\n",
        "y_train = pd.read_csv(path+\"train/y_train.txt\",sep=\"\\s+\", header = None)\n",
        "y_train.columns = ['action']\n",
        "y_test = pd.read_csv(path+\"test/y_test.txt\",sep=\"\\s+\", header = None)\n",
        "y_test.columns = ['action']\n",
        "\n"
      ],
      "metadata": {
        "id": "_9JezCCXiC_H"
      },
      "execution_count": 37,
      "outputs": []
    },
    {
      "cell_type": "code",
      "source": [
        "batch_size = 64\n",
        "validation_split = 0.2"
      ],
      "metadata": {
        "id": "rlQMduHrzX9a"
      },
      "execution_count": 38,
      "outputs": []
    },
    {
      "cell_type": "code",
      "source": [
        "def split_sequences(sequences, n_steps):\n",
        "\tX, y = list(), list()\n",
        "\tfor i in range(len(sequences)):\n",
        "\t\t# find the end of this pattern\n",
        "\t\tend_ix = i + n_steps\n",
        "\t\t# check if we are beyond the dataset\n",
        "\t\tif end_ix > len(sequences):\n",
        "\t\t\tbreak\n",
        "\t\t# gather input and output parts of the pattern\n",
        "\t\tseq_x, seq_y = sequences[i:end_ix, :-1], sequences[end_ix-1, -1]\n",
        "\t\tX.append(seq_x)\n",
        "\t\ty.append(seq_y)\n",
        "\treturn np.array(X), np.array(y)\n"
      ],
      "metadata": {
        "id": "lMkU-eTxpuY4"
      },
      "execution_count": 39,
      "outputs": []
    },
    {
      "cell_type": "code",
      "source": [
        "y_train_array = np.array(y_train)\n",
        "train_set = np.c_[X_train, y_train_array]\n",
        "\n",
        "y_test_array = np.array(y_test)\n",
        "test_set = np.c_[X_test, y_test_array]"
      ],
      "metadata": {
        "id": "Zyjfga1osGq9"
      },
      "execution_count": 40,
      "outputs": []
    },
    {
      "cell_type": "code",
      "source": [
        "X_train, y_train = split_sequences(train_set, 3)\n",
        "print(X_train.shape, y_train.shape)\n",
        "\n",
        "X_test, y_test = split_sequences(test_set, 3)\n",
        "print(X_test.shape, y_test.shape)\n"
      ],
      "metadata": {
        "colab": {
          "base_uri": "https://localhost:8080/"
        },
        "id": "5Elw5-IhsGow",
        "outputId": "2522c718-7507-4ea9-d1cf-2accc6552024"
      },
      "execution_count": 41,
      "outputs": [
        {
          "output_type": "stream",
          "name": "stdout",
          "text": [
            "(7350, 3, 561) (7350,)\n",
            "(2945, 3, 561) (2945,)\n"
          ]
        }
      ]
    },
    {
      "cell_type": "code",
      "source": [
        "time_period, sensors = X_train.shape[1], X_train.shape[2]\n",
        "num_classes = 7"
      ],
      "metadata": {
        "id": "dv82yaN8zwED"
      },
      "execution_count": 42,
      "outputs": []
    },
    {
      "cell_type": "code",
      "source": [
        "input_shape = time_period * sensors\n",
        "X_train = X_train.reshape(X_train.shape[0], input_shape)\n",
        "print(\"Input Shape: \", input_shape)\n",
        "print(\"Input Data Shape: \", X_train.shape)\n",
        "input_shape = time_period * sensors\n",
        "X_test = X_test.reshape(X_test.shape[0], input_shape)\n",
        "print(\"Input Shape: \", input_shape)\n",
        "print(\"Input Data Shape: \", X_test.shape)"
      ],
      "metadata": {
        "id": "a1qZrpQU0m2Q",
        "colab": {
          "base_uri": "https://localhost:8080/"
        },
        "outputId": "2dc5f59c-82f2-43d2-c36e-aa8e71588c86"
      },
      "execution_count": 43,
      "outputs": [
        {
          "output_type": "stream",
          "name": "stdout",
          "text": [
            "Input Shape:  1683\n",
            "Input Data Shape:  (7350, 1683)\n",
            "Input Shape:  1683\n",
            "Input Data Shape:  (2945, 1683)\n"
          ]
        }
      ]
    },
    {
      "cell_type": "code",
      "source": [
        "\n",
        "X_train = X_train.astype('float32')\n",
        "y_train = y_train.astype('float32')\n",
        "\n",
        "X_test = X_test.astype('float32')\n",
        "y_test = y_test.astype('float32')"
      ],
      "metadata": {
        "id": "dyYfqZma00Bq"
      },
      "execution_count": 44,
      "outputs": []
    },
    {
      "cell_type": "code",
      "source": [
        "y_train_hot = to_categorical(y_train)\n",
        "print(\"y_train shape: \", y_train_hot.shape)\n",
        "y_test_hot = to_categorical(y_test)\n",
        "print(\"y_test shape: \", y_test_hot.shape)"
      ],
      "metadata": {
        "colab": {
          "base_uri": "https://localhost:8080/"
        },
        "id": "KfjD7Tkj02rf",
        "outputId": "fbd79b4a-ca23-4af5-a587-74a45b06d60e"
      },
      "execution_count": 45,
      "outputs": [
        {
          "output_type": "stream",
          "name": "stdout",
          "text": [
            "y_train shape:  (7350, 7)\n",
            "y_test shape:  (2945, 7)\n"
          ]
        }
      ]
    },
    {
      "cell_type": "code",
      "source": [
        "model = Sequential()\n",
        "model.add(LSTM(32, return_sequences=True, input_shape=(input_shape,1), activation='relu'))\n",
        "model.add(Reshape((1, 1683, 32)))\n",
        "model.add(Conv1D(filters=64,kernel_size=2, activation='relu', strides=2))\n",
        "model.add(Reshape((841, 64)))\n",
        "model.add(Conv1D(filters=192, kernel_size=2, activation='relu', strides=1))\n",
        "model.add(Reshape((840, 192)))\n",
        "model.add(GlobalAveragePooling1D())\n",
        "model.add(BatchNormalization(epsilon=1e-06))\n",
        "model.add(Dense(7))\n",
        "model.add(Activation('softmax'))\n",
        "\n",
        "print(model.summary())"
      ],
      "metadata": {
        "colab": {
          "base_uri": "https://localhost:8080/"
        },
        "id": "Dh5hdaNp041c",
        "outputId": "d8b4acfe-66ad-44d3-abac-ed2c422cd3db"
      },
      "execution_count": 55,
      "outputs": [
        {
          "output_type": "stream",
          "name": "stdout",
          "text": [
            "Model: \"sequential_7\"\n",
            "_________________________________________________________________\n",
            " Layer (type)                Output Shape              Param #   \n",
            "=================================================================\n",
            " lstm_10 (LSTM)              (None, 1683, 32)          4352      \n",
            "                                                                 \n",
            " reshape_20 (Reshape)        (None, 1, 1683, 32)       0         \n",
            "                                                                 \n",
            " conv1d_13 (Conv1D)          (None, 1, 841, 64)        4160      \n",
            "                                                                 \n",
            " reshape_21 (Reshape)        (None, 841, 64)           0         \n",
            "                                                                 \n",
            " conv1d_14 (Conv1D)          (None, 840, 192)          24768     \n",
            "                                                                 \n",
            " reshape_22 (Reshape)        (None, 840, 192)          0         \n",
            "                                                                 \n",
            " global_average_pooling1d_4  (None, 192)               0         \n",
            "  (GlobalAveragePooling1D)                                       \n",
            "                                                                 \n",
            " batch_normalization_4 (Bat  (None, 192)               768       \n",
            " chNormalization)                                                \n",
            "                                                                 \n",
            " dense_5 (Dense)             (None, 7)                 1351      \n",
            "                                                                 \n",
            " activation_5 (Activation)   (None, 7)                 0         \n",
            "                                                                 \n",
            "=================================================================\n",
            "Total params: 35399 (138.28 KB)\n",
            "Trainable params: 35015 (136.78 KB)\n",
            "Non-trainable params: 384 (1.50 KB)\n",
            "_________________________________________________________________\n",
            "None\n"
          ]
        }
      ]
    },
    {
      "cell_type": "code",
      "source": [
        "model.compile(loss='categorical_crossentropy', optimizer='adam', metrics=['accuracy'])\n",
        "history = model.fit(X_train,\n",
        "                    y_train_hot,\n",
        "                    batch_size= 192,\n",
        "                    epochs=10\n",
        "                   )"
      ],
      "metadata": {
        "colab": {
          "base_uri": "https://localhost:8080/"
        },
        "id": "oJBt7Ai10_ri",
        "outputId": "f7725dd4-6c5f-4ad1-d31b-f117ae3c85cd"
      },
      "execution_count": 56,
      "outputs": [
        {
          "output_type": "stream",
          "name": "stdout",
          "text": [
            "Epoch 1/10\n",
            "39/39 [==============================] - 78s 2s/step - loss: 1.1204 - accuracy: 0.4912\n",
            "Epoch 2/10\n",
            "39/39 [==============================] - 74s 2s/step - loss: 0.9272 - accuracy: 0.5988\n",
            "Epoch 3/10\n",
            "39/39 [==============================] - 74s 2s/step - loss: 0.8399 - accuracy: 0.6472\n",
            "Epoch 4/10\n",
            "39/39 [==============================] - 73s 2s/step - loss: 0.7498 - accuracy: 0.7004\n",
            "Epoch 5/10\n",
            "39/39 [==============================] - 74s 2s/step - loss: 0.6470 - accuracy: 0.7479\n",
            "Epoch 6/10\n",
            "39/39 [==============================] - 74s 2s/step - loss: 0.5758 - accuracy: 0.7924\n",
            "Epoch 7/10\n",
            "39/39 [==============================] - 73s 2s/step - loss: 0.5204 - accuracy: 0.8057\n",
            "Epoch 8/10\n",
            "39/39 [==============================] - 75s 2s/step - loss: 0.4650 - accuracy: 0.8298\n",
            "Epoch 9/10\n",
            "39/39 [==============================] - 75s 2s/step - loss: 0.4189 - accuracy: 0.8449\n",
            "Epoch 10/10\n",
            "39/39 [==============================] - 74s 2s/step - loss: 0.3837 - accuracy: 0.8627\n"
          ]
        }
      ]
    },
    {
      "cell_type": "code",
      "source": [
        "# evaluate model\n",
        "test_loss, test_accuracy = model.evaluate(X_test, y_test_hot, batch_size=batch_size, verbose=0)\n",
        "print(\"Accuracy\", test_accuracy)"
      ],
      "metadata": {
        "colab": {
          "base_uri": "https://localhost:8080/"
        },
        "id": "ERpT_D633C-O",
        "outputId": "d3c4f824-6ecc-4607-f39a-fb3aea447950"
      },
      "execution_count": 57,
      "outputs": [
        {
          "output_type": "stream",
          "name": "stdout",
          "text": [
            "Accuracy 0.1799660474061966\n"
          ]
        }
      ]
    },
    {
      "cell_type": "code",
      "source": [],
      "metadata": {
        "id": "AqkUmffI165n"
      },
      "execution_count": 48,
      "outputs": []
    }
  ]
}