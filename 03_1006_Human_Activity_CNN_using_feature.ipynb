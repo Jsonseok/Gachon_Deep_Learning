{
  "nbformat": 4,
  "nbformat_minor": 0,
  "metadata": {
    "colab": {
      "provenance": []
    },
    "kernelspec": {
      "name": "python3",
      "display_name": "Python 3"
    },
    "language_info": {
      "name": "python"
    }
  },
  "cells": [
    {
      "cell_type": "code",
      "execution_count": null,
      "metadata": {
        "id": "AD2Y5f6QyeWa"
      },
      "outputs": [],
      "source": []
    },
    {
      "cell_type": "code",
      "source": [
        "import numpy as np\n",
        "from pandas import read_csv\n",
        "from keras.models import Sequential\n",
        "import pandas as pd\n",
        "from keras.layers import Conv1D,MaxPooling1D,Dense,Flatten,Dropout,LSTM,Bidirectional\n",
        "\n",
        "from tensorflow.keras.utils import to_categorical\n",
        "import matplotlib.pyplot as plt\n",
        "from keras.utils import plot_model\n",
        "import keras\n",
        "import zipfile\n",
        "from sklearn.metrics import confusion_matrix, classification_report\n",
        "import seaborn as sns\n",
        "# set seed to reproduce similar results\n",
        "np.random.seed(0)"
      ],
      "metadata": {
        "id": "2POh07dXiQzD"
      },
      "execution_count": null,
      "outputs": []
    },
    {
      "cell_type": "code",
      "source": [
        "features_df = pd.read_csv('/content/UCI HAR Dataset/features.txt',sep=\"\\s+\",\n",
        "                         header=None, names=[\"column_index\", \"column_name\"])\n",
        "\n",
        "feature_names = features_df[\"column_name\"].values.tolist()\n"
      ],
      "metadata": {
        "id": "ha83QtBikDPj"
      },
      "execution_count": null,
      "outputs": []
    },
    {
      "cell_type": "code",
      "source": [
        "path = \"/content/UCI HAR Dataset/\"\n",
        "\n",
        "X_train = pd.read_csv(path+\"train/X_train.txt\",sep=\"\\s+\", header = None)\n",
        "X_train.columns = feature_names\n",
        "X_test = pd.read_csv(path+\"test/X_test.txt\",sep=\"\\s+\", header = None)\n",
        "X_test.columns = feature_names\n",
        "y_train = pd.read_csv(path+\"train/y_train.txt\",sep=\"\\s+\", header = None)\n",
        "y_train.columns = ['action']\n",
        "y_test = pd.read_csv(path+\"test/y_test.txt\",sep=\"\\s+\", header = None)\n",
        "y_test.columns = ['action']\n",
        "\n"
      ],
      "metadata": {
        "id": "_9JezCCXiC_H"
      },
      "execution_count": null,
      "outputs": []
    },
    {
      "cell_type": "code",
      "source": [
        "batch_size = 64\n",
        "validation_split = 0.2"
      ],
      "metadata": {
        "id": "qYJe1sG1iiD3"
      },
      "execution_count": null,
      "outputs": []
    },
    {
      "cell_type": "code",
      "source": [
        "def split_sequences(sequences, n_steps):\n",
        "\tX, y = list(), list()\n",
        "\tfor i in range(len(sequences)):\n",
        "\t\t# find the end of this pattern\n",
        "\t\tend_ix = i + n_steps\n",
        "\t\t# check if we are beyond the dataset\n",
        "\t\tif end_ix > len(sequences):\n",
        "\t\t\tbreak\n",
        "\t\t# gather input and output parts of the pattern\n",
        "\t\tseq_x, seq_y = sequences[i:end_ix, :-1], sequences[end_ix-1, -1]\n",
        "\t\tX.append(seq_x)\n",
        "\t\ty.append(seq_y)\n",
        "\treturn np.array(X), np.array(y)\n"
      ],
      "metadata": {
        "id": "lMkU-eTxpuY4"
      },
      "execution_count": null,
      "outputs": []
    },
    {
      "cell_type": "code",
      "source": [
        "y_train_array = np.array(y_train)\n",
        "train_set = np.c_[X_train, y_train_array]\n",
        "\n",
        "y_test_array = np.array(y_test)\n",
        "test_set = np.c_[X_test, y_test_array]"
      ],
      "metadata": {
        "id": "Zyjfga1osGq9"
      },
      "execution_count": null,
      "outputs": []
    },
    {
      "cell_type": "code",
      "source": [
        "X_train, y_train = split_sequences(train_set, 3)\n",
        "print(X_train.shape, y_train.shape)\n",
        "\n",
        "X_test, y_test = split_sequences(test_set, 3)\n",
        "print(X_test.shape, y_test.shape)\n"
      ],
      "metadata": {
        "colab": {
          "base_uri": "https://localhost:8080/"
        },
        "id": "5Elw5-IhsGow",
        "outputId": "56609e86-7779-4049-afbc-e86eff199dc8"
      },
      "execution_count": null,
      "outputs": [
        {
          "output_type": "stream",
          "name": "stdout",
          "text": [
            "(7350, 3, 561) (7350,)\n",
            "(2945, 3, 561) (2945,)\n"
          ]
        }
      ]
    },
    {
      "cell_type": "code",
      "source": [
        "y_train = to_categorical(y_train)\n",
        "print(y_train.shape)\n",
        "y_test = to_categorical(y_test)\n",
        "print(y_test.shape)\n"
      ],
      "metadata": {
        "colab": {
          "base_uri": "https://localhost:8080/"
        },
        "id": "iIwREUkJtDOF",
        "outputId": "9e7fe4f8-6593-43bd-dc48-d9c697123796"
      },
      "execution_count": null,
      "outputs": [
        {
          "output_type": "stream",
          "name": "stdout",
          "text": [
            "(7350, 7)\n",
            "(2945, 7)\n"
          ]
        }
      ]
    },
    {
      "cell_type": "code",
      "source": [
        "n_timesteps, n_features, n_outputs = X_train.shape[1], X_train.shape[2], y_train.shape[1]\n",
        "print(n_timesteps, n_features, n_outputs)\n"
      ],
      "metadata": {
        "colab": {
          "base_uri": "https://localhost:8080/"
        },
        "id": "QVB8fN7ZtOQX",
        "outputId": "a5c4c332-78df-4c62-969a-a5dd5817fbbc"
      },
      "execution_count": null,
      "outputs": [
        {
          "output_type": "stream",
          "name": "stdout",
          "text": [
            "3 561 7\n"
          ]
        }
      ]
    },
    {
      "cell_type": "code",
      "source": [
        "model = Sequential()\n",
        "model.add(Conv1D(filters=64, kernel_size=3, activation='relu', input_shape=(n_timesteps,n_features)))\n",
        "model.add(Dropout(0.5))\n",
        "model.add(Flatten())\n",
        "\n",
        "model.add(Dense(100, activation='relu'))\n",
        "model.add(Dense(7, activation='softmax'))\n",
        "plot_model(model, show_shapes=True, show_layer_names=True)"
      ],
      "metadata": {
        "colab": {
          "base_uri": "https://localhost:8080/",
          "height": 644
        },
        "id": "tYW4-xthiww3",
        "outputId": "6fe28e9a-957c-4b94-eb36-69d3ec48b43f"
      },
      "execution_count": null,
      "outputs": [
        {
          "output_type": "execute_result",
          "data": {
            "image/png": "[encoded data removed]",
            "text/plain": [
              "<IPython.core.display.Image object>"
            ]
          },
          "metadata": {},
          "execution_count": 26
        }
      ]
    },
    {
      "cell_type": "code",
      "source": [
        "model.compile(loss='categorical_crossentropy', optimizer='adam', metrics=['accuracy'])"
      ],
      "metadata": {
        "id": "bT6Pu_s0uUk8"
      },
      "execution_count": null,
      "outputs": []
    },
    {
      "cell_type": "code",
      "source": [
        "# fit network\n",
        "train_epochs = 20\n",
        "history = model.fit(X_train, y_train, epochs=train_epochs, batch_size=batch_size, verbose=True,  validation_split=validation_split, shuffle=True)"
      ],
      "metadata": {
        "colab": {
          "base_uri": "https://localhost:8080/"
        },
        "id": "Fjl5Sr3guhqR",
        "outputId": "f427aa56-3282-43a4-f773-3e818a1f26c7"
      },
      "execution_count": null,
      "outputs": [
        {
          "output_type": "stream",
          "name": "stdout",
          "text": [
            "Epoch 1/20\n",
            "92/92 [==============================] - 2s 10ms/step - loss: 0.9603 - accuracy: 0.5869 - val_loss: 0.4596 - val_accuracy: 0.7776\n",
            "Epoch 2/20\n",
            "92/92 [==============================] - 1s 7ms/step - loss: 0.4815 - accuracy: 0.7951 - val_loss: 0.3586 - val_accuracy: 0.8980\n",
            "Epoch 3/20\n",
            "92/92 [==============================] - 1s 7ms/step - loss: 0.3680 - accuracy: 0.8435 - val_loss: 0.2477 - val_accuracy: 0.9211\n",
            "Epoch 4/20\n",
            "92/92 [==============================] - 1s 8ms/step - loss: 0.3158 - accuracy: 0.8685 - val_loss: 0.2672 - val_accuracy: 0.9102\n",
            "Epoch 5/20\n",
            "92/92 [==============================] - 0s 5ms/step - loss: 0.2618 - accuracy: 0.8915 - val_loss: 0.2736 - val_accuracy: 0.9095\n",
            "Epoch 6/20\n",
            "92/92 [==============================] - 0s 5ms/step - loss: 0.2354 - accuracy: 0.9054 - val_loss: 0.1873 - val_accuracy: 0.9272\n",
            "Epoch 7/20\n",
            "92/92 [==============================] - 0s 5ms/step - loss: 0.2291 - accuracy: 0.9112 - val_loss: 0.1771 - val_accuracy: 0.9327\n",
            "Epoch 8/20\n",
            "92/92 [==============================] - 0s 5ms/step - loss: 0.2286 - accuracy: 0.9020 - val_loss: 0.1450 - val_accuracy: 0.9483\n",
            "Epoch 9/20\n",
            "92/92 [==============================] - 0s 5ms/step - loss: 0.1987 - accuracy: 0.9138 - val_loss: 0.1792 - val_accuracy: 0.9252\n",
            "Epoch 10/20\n",
            "92/92 [==============================] - 0s 5ms/step - loss: 0.1891 - accuracy: 0.9214 - val_loss: 0.2462 - val_accuracy: 0.9150\n",
            "Epoch 11/20\n",
            "92/92 [==============================] - 0s 5ms/step - loss: 0.1904 - accuracy: 0.9185 - val_loss: 0.1832 - val_accuracy: 0.9401\n",
            "Epoch 12/20\n",
            "92/92 [==============================] - 0s 5ms/step - loss: 0.1953 - accuracy: 0.9196 - val_loss: 0.1198 - val_accuracy: 0.9449\n",
            "Epoch 13/20\n",
            "92/92 [==============================] - 0s 5ms/step - loss: 0.1896 - accuracy: 0.9231 - val_loss: 0.1306 - val_accuracy: 0.9619\n",
            "Epoch 14/20\n",
            "92/92 [==============================] - 0s 5ms/step - loss: 0.1560 - accuracy: 0.9342 - val_loss: 0.2116 - val_accuracy: 0.9299\n",
            "Epoch 15/20\n",
            "92/92 [==============================] - 0s 5ms/step - loss: 0.1471 - accuracy: 0.9374 - val_loss: 0.1466 - val_accuracy: 0.9456\n",
            "Epoch 16/20\n",
            "92/92 [==============================] - 0s 5ms/step - loss: 0.1462 - accuracy: 0.9413 - val_loss: 0.1364 - val_accuracy: 0.9435\n",
            "Epoch 17/20\n",
            "92/92 [==============================] - 0s 5ms/step - loss: 0.1534 - accuracy: 0.9384 - val_loss: 0.2135 - val_accuracy: 0.9265\n",
            "Epoch 18/20\n",
            "92/92 [==============================] - 0s 5ms/step - loss: 0.1755 - accuracy: 0.9291 - val_loss: 0.1230 - val_accuracy: 0.9531\n",
            "Epoch 19/20\n",
            "92/92 [==============================] - 0s 4ms/step - loss: 0.1742 - accuracy: 0.9264 - val_loss: 0.1653 - val_accuracy: 0.9408\n",
            "Epoch 20/20\n",
            "92/92 [==============================] - 0s 4ms/step - loss: 0.1496 - accuracy: 0.9406 - val_loss: 0.1912 - val_accuracy: 0.9408\n"
          ]
        }
      ]
    },
    {
      "cell_type": "code",
      "source": [
        "# evaluate model\n",
        "test_loss, test_accuracy = model.evaluate(X_test, y_test, batch_size=batch_size, verbose=0)\n",
        "print(\"Accuracy\", test_accuracy)"
      ],
      "metadata": {
        "colab": {
          "base_uri": "https://localhost:8080/"
        },
        "id": "anH8p96huohi",
        "outputId": "1464a6c3-c1b7-42d3-b28d-fe7b15824714"
      },
      "execution_count": null,
      "outputs": [
        {
          "output_type": "stream",
          "name": "stdout",
          "text": [
            "Accuracy of the CNN model 0.9314091801643372\n",
            "93/93 [==============================] - 0s 2ms/step\n"
          ]
        }
      ]
    },
    {
      "cell_type": "code",
      "source": [],
      "metadata": {
        "id": "2_hMag5Ex-Dd"
      },
      "execution_count": null,
      "outputs": []
    }
  ]
}