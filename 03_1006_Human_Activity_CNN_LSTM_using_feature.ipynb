{
  "nbformat": 4,
  "nbformat_minor": 0,
  "metadata": {
    "colab": {
      "provenance": []
    },
    "kernelspec": {
      "name": "python3",
      "display_name": "Python 3"
    },
    "language_info": {
      "name": "python"
    }
  },
  "cells": [
    {
      "cell_type": "code",
      "execution_count": null,
      "metadata": {
        "id": "G8gJ9xoUzBRG"
      },
      "outputs": [],
      "source": []
    },
    {
      "cell_type": "code",
      "execution_count": null,
      "metadata": {
        "id": "m91ZKRIqOVkU"
      },
      "outputs": [],
      "source": [
        "import numpy as np\n",
        "from pandas import read_csv\n",
        "from keras.models import Sequential\n",
        "import pandas as pd\n",
        "from keras.layers import Conv1D,MaxPooling1D,Dense,Flatten,Dropout,LSTM,Bidirectional\n",
        "\n",
        "from tensorflow.keras.utils import to_categorical\n",
        "import matplotlib.pyplot as plt\n",
        "from keras.utils import plot_model\n",
        "import keras\n",
        "import zipfile\n",
        "from sklearn.metrics import confusion_matrix, classification_report\n",
        "import seaborn as sns\n",
        "# set seed to reproduce similar results\n",
        "np.random.seed(0)"
      ]
    },
    {
      "cell_type": "code",
      "source": [
        "\n",
        "!pip install -U -q PyDrive\n",
        "from pydrive.auth import GoogleAuth\n",
        "from pydrive.drive import GoogleDrive\n",
        "from google.colab import auth\n",
        "from oauth2client.client import GoogleCredentials"
      ],
      "metadata": {
        "id": "37YbdMHbnuDD"
      },
      "execution_count": null,
      "outputs": []
    },
    {
      "cell_type": "code",
      "source": [
        "auth.authenticate_user()\n",
        "gauth = GoogleAuth()\n",
        "gauth.credentials = GoogleCredentials.get_application_default()\n",
        "drive = GoogleDrive(gauth)"
      ],
      "metadata": {
        "id": "xQnzmTLDn_Zs"
      },
      "execution_count": null,
      "outputs": []
    },
    {
      "cell_type": "code",
      "source": [
        "auth.authenticate_user()\n",
        "gauth = GoogleAuth()\n",
        "gauth.credentials = GoogleCredentials.get_application_default()\n",
        "drive = GoogleDrive(gauth)"
      ],
      "metadata": {
        "id": "NSaDzLzdoAiz"
      },
      "execution_count": null,
      "outputs": []
    },
    {
      "cell_type": "code",
      "source": [
        "dataset_file_id = '1xnD6OXIMNOChR4V9DKO-Jjsb7QNMUjc0'"
      ],
      "metadata": {
        "id": "E7W8pW5VoH7Z"
      },
      "execution_count": null,
      "outputs": []
    },
    {
      "cell_type": "code",
      "source": [
        "downloaded = drive.CreateFile({'id':dataset_file_id})\n",
        "downloaded.GetContentFile('UCI HAR Dataset.zip')"
      ],
      "metadata": {
        "id": "tqqfDxBKoFYZ"
      },
      "execution_count": null,
      "outputs": []
    },
    {
      "cell_type": "code",
      "source": [
        "!unzip \"/content/UCI HAR Dataset.zip\" -d \"/content/\"\n"
      ],
      "metadata": {
        "colab": {
          "base_uri": "https://localhost:8080/"
        },
        "id": "RC2V0DXPoGaa",
        "outputId": "31175c87-bcdf-4d81-e074-08a83f0f02e8"
      },
      "execution_count": null,
      "outputs": [
        {
          "output_type": "stream",
          "name": "stdout",
          "text": [
            "Archive:  /content/UCI HAR Dataset.zip\n",
            "   creating: /content/UCI HAR Dataset/\n",
            "  inflating: /content/UCI HAR Dataset/.DS_Store  \n",
            "   creating: /content/__MACOSX/\n",
            "   creating: /content/__MACOSX/UCI HAR Dataset/\n",
            "  inflating: /content/__MACOSX/UCI HAR Dataset/._.DS_Store  \n",
            "  inflating: /content/UCI HAR Dataset/activity_labels.txt  \n",
            "  inflating: /content/__MACOSX/UCI HAR Dataset/._activity_labels.txt  \n",
            "  inflating: /content/UCI HAR Dataset/features.txt  \n",
            "  inflating: /content/__MACOSX/UCI HAR Dataset/._features.txt  \n",
            "  inflating: /content/UCI HAR Dataset/features_info.txt  \n",
            "  inflating: /content/__MACOSX/UCI HAR Dataset/._features_info.txt  \n",
            "  inflating: /content/UCI HAR Dataset/README.txt  \n",
            "  inflating: /content/__MACOSX/UCI HAR Dataset/._README.txt  \n",
            "   creating: /content/UCI HAR Dataset/test/\n",
            "   creating: /content/UCI HAR Dataset/test/Inertial Signals/\n",
            "  inflating: /content/UCI HAR Dataset/test/Inertial Signals/body_acc_x_test.txt  \n",
            "   creating: /content/__MACOSX/UCI HAR Dataset/test/\n",
            "   creating: /content/__MACOSX/UCI HAR Dataset/test/Inertial Signals/\n",
            "  inflating: /content/__MACOSX/UCI HAR Dataset/test/Inertial Signals/._body_acc_x_test.txt  \n",
            "  inflating: /content/UCI HAR Dataset/test/Inertial Signals/body_acc_y_test.txt  \n",
            "  inflating: /content/__MACOSX/UCI HAR Dataset/test/Inertial Signals/._body_acc_y_test.txt  \n",
            "  inflating: /content/UCI HAR Dataset/test/Inertial Signals/body_acc_z_test.txt  \n",
            "  inflating: /content/__MACOSX/UCI HAR Dataset/test/Inertial Signals/._body_acc_z_test.txt  \n",
            "  inflating: /content/UCI HAR Dataset/test/Inertial Signals/body_gyro_x_test.txt  \n",
            "  inflating: /content/__MACOSX/UCI HAR Dataset/test/Inertial Signals/._body_gyro_x_test.txt  \n",
            "  inflating: /content/UCI HAR Dataset/test/Inertial Signals/body_gyro_y_test.txt  \n",
            "  inflating: /content/__MACOSX/UCI HAR Dataset/test/Inertial Signals/._body_gyro_y_test.txt  \n",
            "  inflating: /content/UCI HAR Dataset/test/Inertial Signals/body_gyro_z_test.txt  \n",
            "  inflating: /content/__MACOSX/UCI HAR Dataset/test/Inertial Signals/._body_gyro_z_test.txt  \n",
            "  inflating: /content/UCI HAR Dataset/test/Inertial Signals/total_acc_x_test.txt  \n",
            "  inflating: /content/__MACOSX/UCI HAR Dataset/test/Inertial Signals/._total_acc_x_test.txt  \n",
            "  inflating: /content/UCI HAR Dataset/test/Inertial Signals/total_acc_y_test.txt  \n",
            "  inflating: /content/__MACOSX/UCI HAR Dataset/test/Inertial Signals/._total_acc_y_test.txt  \n",
            "  inflating: /content/UCI HAR Dataset/test/Inertial Signals/total_acc_z_test.txt  \n",
            "  inflating: /content/__MACOSX/UCI HAR Dataset/test/Inertial Signals/._total_acc_z_test.txt  \n",
            "  inflating: /content/__MACOSX/UCI HAR Dataset/test/._Inertial Signals  \n",
            "  inflating: /content/UCI HAR Dataset/test/subject_test.txt  \n",
            "  inflating: /content/__MACOSX/UCI HAR Dataset/test/._subject_test.txt  \n",
            "  inflating: /content/UCI HAR Dataset/test/X_test.txt  \n",
            "  inflating: /content/__MACOSX/UCI HAR Dataset/test/._X_test.txt  \n",
            "  inflating: /content/UCI HAR Dataset/test/y_test.txt  \n",
            "  inflating: /content/__MACOSX/UCI HAR Dataset/test/._y_test.txt  \n",
            "  inflating: /content/__MACOSX/UCI HAR Dataset/._test  \n",
            "   creating: /content/UCI HAR Dataset/train/\n",
            "   creating: /content/UCI HAR Dataset/train/Inertial Signals/\n",
            "  inflating: /content/UCI HAR Dataset/train/Inertial Signals/body_acc_x_train.txt  \n",
            "   creating: /content/__MACOSX/UCI HAR Dataset/train/\n",
            "   creating: /content/__MACOSX/UCI HAR Dataset/train/Inertial Signals/\n",
            "  inflating: /content/__MACOSX/UCI HAR Dataset/train/Inertial Signals/._body_acc_x_train.txt  \n",
            "  inflating: /content/UCI HAR Dataset/train/Inertial Signals/body_acc_y_train.txt  \n",
            "  inflating: /content/__MACOSX/UCI HAR Dataset/train/Inertial Signals/._body_acc_y_train.txt  \n",
            "  inflating: /content/UCI HAR Dataset/train/Inertial Signals/body_acc_z_train.txt  \n",
            "  inflating: /content/__MACOSX/UCI HAR Dataset/train/Inertial Signals/._body_acc_z_train.txt  \n",
            "  inflating: /content/UCI HAR Dataset/train/Inertial Signals/body_gyro_x_train.txt  \n",
            "  inflating: /content/__MACOSX/UCI HAR Dataset/train/Inertial Signals/._body_gyro_x_train.txt  \n",
            "  inflating: /content/UCI HAR Dataset/train/Inertial Signals/body_gyro_y_train.txt  \n",
            "  inflating: /content/__MACOSX/UCI HAR Dataset/train/Inertial Signals/._body_gyro_y_train.txt  \n",
            "  inflating: /content/UCI HAR Dataset/train/Inertial Signals/body_gyro_z_train.txt  \n",
            "  inflating: /content/__MACOSX/UCI HAR Dataset/train/Inertial Signals/._body_gyro_z_train.txt  \n",
            "  inflating: /content/UCI HAR Dataset/train/Inertial Signals/total_acc_x_train.txt  \n",
            "  inflating: /content/__MACOSX/UCI HAR Dataset/train/Inertial Signals/._total_acc_x_train.txt  \n",
            "  inflating: /content/UCI HAR Dataset/train/Inertial Signals/total_acc_y_train.txt  \n",
            "  inflating: /content/__MACOSX/UCI HAR Dataset/train/Inertial Signals/._total_acc_y_train.txt  \n",
            "  inflating: /content/UCI HAR Dataset/train/Inertial Signals/total_acc_z_train.txt  \n",
            "  inflating: /content/__MACOSX/UCI HAR Dataset/train/Inertial Signals/._total_acc_z_train.txt  \n",
            "  inflating: /content/__MACOSX/UCI HAR Dataset/train/._Inertial Signals  \n",
            "  inflating: /content/UCI HAR Dataset/train/subject_train.txt  \n",
            "  inflating: /content/__MACOSX/UCI HAR Dataset/train/._subject_train.txt  \n",
            "  inflating: /content/UCI HAR Dataset/train/X_train.txt  \n",
            "  inflating: /content/__MACOSX/UCI HAR Dataset/train/._X_train.txt  \n",
            "  inflating: /content/UCI HAR Dataset/train/y_train.txt  \n",
            "  inflating: /content/__MACOSX/UCI HAR Dataset/train/._y_train.txt  \n",
            "  inflating: /content/__MACOSX/UCI HAR Dataset/._train  \n",
            "  inflating: /content/__MACOSX/._UCI HAR Dataset  \n"
          ]
        }
      ]
    },
    {
      "cell_type": "code",
      "source": [
        "features_df = pd.read_csv('/content/UCI HAR Dataset/features.txt',sep=\"\\s+\",\n",
        "                         header=None, names=[\"column_index\", \"column_name\"])\n",
        "\n",
        "feature_names = features_df[\"column_name\"].values.tolist()\n"
      ],
      "metadata": {
        "id": "uQA1wFmNzd0p"
      },
      "execution_count": null,
      "outputs": []
    },
    {
      "cell_type": "code",
      "source": [],
      "metadata": {
        "id": "MSzvUKC5zx2E"
      },
      "execution_count": null,
      "outputs": []
    },
    {
      "cell_type": "code",
      "source": [
        "path = \"/content/UCI HAR Dataset/\"\n",
        "\n",
        "X_train = pd.read_csv(path+\"train/X_train.txt\",sep=\"\\s+\", header = None)\n",
        "X_train.columns = feature_names\n",
        "X_test = pd.read_csv(path+\"test/X_test.txt\",sep=\"\\s+\", header = None)\n",
        "X_test.columns = feature_names\n",
        "y_train = pd.read_csv(path+\"train/y_train.txt\",sep=\"\\s+\", header = None)\n",
        "y_train.columns = ['action']\n",
        "y_test = pd.read_csv(path+\"test/y_test.txt\",sep=\"\\s+\", header = None)\n",
        "y_test.columns = ['action']\n",
        "\n"
      ],
      "metadata": {
        "id": "_9JezCCXiC_H"
      },
      "execution_count": null,
      "outputs": []
    },
    {
      "cell_type": "code",
      "source": [
        "batch_size = 64\n",
        "validation_split = 0.2"
      ],
      "metadata": {
        "id": "qYJe1sG1iiD3"
      },
      "execution_count": null,
      "outputs": []
    },
    {
      "cell_type": "code",
      "source": [
        "def split_sequences(sequences, n_steps):\n",
        "\tX, y = list(), list()\n",
        "\tfor i in range(len(sequences)):\n",
        "\t\t# find the end of this pattern\n",
        "\t\tend_ix = i + n_steps\n",
        "\t\t# check if we are beyond the dataset\n",
        "\t\tif end_ix > len(sequences):\n",
        "\t\t\tbreak\n",
        "\t\t# gather input and output parts of the pattern\n",
        "\t\tseq_x, seq_y = sequences[i:end_ix, :-1], sequences[end_ix-1, -1]\n",
        "\t\tX.append(seq_x)\n",
        "\t\ty.append(seq_y)\n",
        "\treturn np.array(X), np.array(y)\n"
      ],
      "metadata": {
        "id": "lMkU-eTxpuY4"
      },
      "execution_count": null,
      "outputs": []
    },
    {
      "cell_type": "code",
      "source": [
        "y_train_array = np.array(y_train)\n",
        "train_set = np.c_[X_train, y_train_array]\n",
        "\n",
        "y_test_array = np.array(y_test)\n",
        "test_set = np.c_[X_test, y_test_array]"
      ],
      "metadata": {
        "id": "Zyjfga1osGq9"
      },
      "execution_count": null,
      "outputs": []
    },
    {
      "cell_type": "code",
      "source": [
        "X_train, y_train = split_sequences(train_set, 3)\n",
        "print(X_train.shape, y_train.shape)\n",
        "\n",
        "X_test, y_test = split_sequences(test_set, 3)\n",
        "print(X_test.shape, y_test.shape)\n"
      ],
      "metadata": {
        "colab": {
          "base_uri": "https://localhost:8080/"
        },
        "id": "5Elw5-IhsGow",
        "outputId": "0b9c2948-f55b-4428-fa13-d028b28a05d5"
      },
      "execution_count": null,
      "outputs": [
        {
          "output_type": "stream",
          "name": "stdout",
          "text": [
            "(7350, 3, 561) (7350,)\n",
            "(2945, 3, 561) (2945,)\n"
          ]
        }
      ]
    },
    {
      "cell_type": "code",
      "source": [
        "y_train = to_categorical(y_train)\n",
        "print(y_train.shape)\n",
        "y_test = to_categorical(y_test)\n",
        "print(y_test.shape)\n"
      ],
      "metadata": {
        "colab": {
          "base_uri": "https://localhost:8080/"
        },
        "id": "iIwREUkJtDOF",
        "outputId": "37f19cc5-cd48-4f89-81e8-d11dd2158603"
      },
      "execution_count": null,
      "outputs": [
        {
          "output_type": "stream",
          "name": "stdout",
          "text": [
            "(7350, 7)\n",
            "(2945, 7)\n"
          ]
        }
      ]
    },
    {
      "cell_type": "code",
      "source": [
        "n_timesteps, n_features, n_outputs = X_train.shape[1], X_train.shape[2], y_train.shape[1]\n",
        "print(n_timesteps, n_features, n_outputs)\n"
      ],
      "metadata": {
        "colab": {
          "base_uri": "https://localhost:8080/"
        },
        "id": "QVB8fN7ZtOQX",
        "outputId": "943fa4b1-9299-4c6f-dd72-14bf75dcb60b"
      },
      "execution_count": null,
      "outputs": [
        {
          "output_type": "stream",
          "name": "stdout",
          "text": [
            "3 561 7\n"
          ]
        }
      ]
    },
    {
      "cell_type": "code",
      "source": [
        "model = Sequential()\n",
        "model.add(Conv1D(filters=64, kernel_size=3, activation='relu', input_shape=(n_timesteps,n_features)))\n",
        "model.add(Dropout(0.5))\n",
        "model.add(LSTM(100, activation='relu'))\n",
        "model.add(Dense(7, activation='softmax'))\n",
        "plot_model(model, show_shapes=True, show_layer_names=True)"
      ],
      "metadata": {
        "colab": {
          "base_uri": "https://localhost:8080/",
          "height": 533
        },
        "id": "tYW4-xthiww3",
        "outputId": "0387f0af-6df5-44ef-bea0-ecad004b4ec5"
      },
      "execution_count": null,
      "outputs": [
        {
          "output_type": "execute_result",
          "data": {
            "image/png": "[encoded data removed]",
            "text/plain": [
              "<IPython.core.display.Image object>"
            ]
          },
          "metadata": {},
          "execution_count": 20
        }
      ]
    },
    {
      "cell_type": "code",
      "source": [
        "model.compile(loss='categorical_crossentropy', optimizer='adam', metrics=['accuracy'])"
      ],
      "metadata": {
        "id": "tjvt7vJ-0S0E"
      },
      "execution_count": null,
      "outputs": []
    },
    {
      "cell_type": "code",
      "source": [
        "# fit network\n",
        "train_epochs = 20\n",
        "history = model.fit(X_train, y_train, epochs=train_epochs, batch_size=batch_size, verbose=True,  validation_split=validation_split, shuffle=True)"
      ],
      "metadata": {
        "colab": {
          "base_uri": "https://localhost:8080/"
        },
        "id": "cxD7PMmS0ey9",
        "outputId": "da813584-58d1-4299-fab7-37c93bc77ab6"
      },
      "execution_count": null,
      "outputs": [
        {
          "output_type": "stream",
          "name": "stdout",
          "text": [
            "Epoch 1/20\n",
            "92/92 [==============================] - 5s 21ms/step - loss: 1.0906 - accuracy: 0.5134 - val_loss: 0.4688 - val_accuracy: 0.8333\n",
            "Epoch 2/20\n",
            "92/92 [==============================] - 1s 10ms/step - loss: 0.5436 - accuracy: 0.7719 - val_loss: 0.2985 - val_accuracy: 0.9170\n",
            "Epoch 3/20\n",
            "92/92 [==============================] - 1s 10ms/step - loss: 0.3873 - accuracy: 0.8325 - val_loss: 0.2308 - val_accuracy: 0.9061\n",
            "Epoch 4/20\n",
            "92/92 [==============================] - 1s 10ms/step - loss: 0.3247 - accuracy: 0.8643 - val_loss: 0.1936 - val_accuracy: 0.9327\n",
            "Epoch 5/20\n",
            "92/92 [==============================] - 1s 9ms/step - loss: 0.2697 - accuracy: 0.8912 - val_loss: 0.1987 - val_accuracy: 0.9177\n",
            "Epoch 6/20\n",
            "92/92 [==============================] - 1s 9ms/step - loss: 0.2302 - accuracy: 0.9049 - val_loss: 0.1860 - val_accuracy: 0.9306\n",
            "Epoch 7/20\n",
            "92/92 [==============================] - 1s 9ms/step - loss: 0.2120 - accuracy: 0.9153 - val_loss: 0.1424 - val_accuracy: 0.9327\n",
            "Epoch 8/20\n",
            "92/92 [==============================] - 1s 9ms/step - loss: 0.1996 - accuracy: 0.9150 - val_loss: 0.1328 - val_accuracy: 0.9374\n",
            "Epoch 9/20\n",
            "92/92 [==============================] - 1s 9ms/step - loss: 0.1732 - accuracy: 0.9310 - val_loss: 0.2302 - val_accuracy: 0.9211\n",
            "Epoch 10/20\n",
            "92/92 [==============================] - 1s 8ms/step - loss: 0.1442 - accuracy: 0.9406 - val_loss: 0.1579 - val_accuracy: 0.9361\n",
            "Epoch 11/20\n",
            "92/92 [==============================] - 1s 10ms/step - loss: 0.1406 - accuracy: 0.9442 - val_loss: 0.1143 - val_accuracy: 0.9490\n",
            "Epoch 12/20\n",
            "92/92 [==============================] - 1s 9ms/step - loss: 0.1570 - accuracy: 0.9366 - val_loss: 0.1491 - val_accuracy: 0.9449\n",
            "Epoch 13/20\n",
            "92/92 [==============================] - 1s 9ms/step - loss: 0.1531 - accuracy: 0.9391 - val_loss: 0.1653 - val_accuracy: 0.9442\n",
            "Epoch 14/20\n",
            "92/92 [==============================] - 1s 14ms/step - loss: 0.1455 - accuracy: 0.9412 - val_loss: 0.1733 - val_accuracy: 0.9388\n",
            "Epoch 15/20\n",
            "92/92 [==============================] - 1s 15ms/step - loss: 0.1200 - accuracy: 0.9498 - val_loss: 0.1561 - val_accuracy: 0.9367\n",
            "Epoch 16/20\n",
            "92/92 [==============================] - 1s 9ms/step - loss: 0.1337 - accuracy: 0.9466 - val_loss: 0.1144 - val_accuracy: 0.9483\n",
            "Epoch 17/20\n",
            "92/92 [==============================] - 1s 9ms/step - loss: 0.1340 - accuracy: 0.9471 - val_loss: 0.1948 - val_accuracy: 0.9265\n",
            "Epoch 18/20\n",
            "92/92 [==============================] - 1s 9ms/step - loss: 0.1084 - accuracy: 0.9577 - val_loss: 0.1557 - val_accuracy: 0.9456\n",
            "Epoch 19/20\n",
            "92/92 [==============================] - 1s 9ms/step - loss: 0.1140 - accuracy: 0.9553 - val_loss: 0.2311 - val_accuracy: 0.9367\n",
            "Epoch 20/20\n",
            "92/92 [==============================] - 1s 9ms/step - loss: 0.1132 - accuracy: 0.9548 - val_loss: 0.1163 - val_accuracy: 0.9544\n"
          ]
        }
      ]
    },
    {
      "cell_type": "code",
      "source": [
        "# evaluate model\n",
        "test_loss, test_accuracy = model.evaluate(X_test, y_test, batch_size=batch_size, verbose=0)\n",
        "print(\"Accuracy\", test_accuracy)"
      ],
      "metadata": {
        "colab": {
          "base_uri": "https://localhost:8080/"
        },
        "id": "eBnt0GNZ0fFM",
        "outputId": "9b27a24e-7d15-4e25-cb43-626b235bd737"
      },
      "execution_count": null,
      "outputs": [
        {
          "output_type": "stream",
          "name": "stdout",
          "text": [
            "Accuracy of the CNN model 0.9463497400283813\n",
            "93/93 [==============================] - 1s 2ms/step\n"
          ]
        }
      ]
    },
    {
      "cell_type": "code",
      "source": [],
      "metadata": {
        "id": "a1qZrpQU0m2Q"
      },
      "execution_count": null,
      "outputs": []
    }
  ]
}